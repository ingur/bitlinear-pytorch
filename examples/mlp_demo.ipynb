{
 "cells": [
  {
   "cell_type": "markdown",
   "id": "e2261598-0b45-4d82-9055-c86b193971f5",
   "metadata": {},
   "source": [
    "# BitLinear - Pytorch\n",
    "\n",
    "Comparing the performance of the BitLinear layer with the Linear layer in Pytorch."
   ]
  },
  {
   "cell_type": "code",
   "execution_count": 1,
   "id": "04f97cd9",
   "metadata": {},
   "outputs": [],
   "source": [
    "!pip -q install bitlinear-pytorch"
   ]
  },
  {
   "cell_type": "markdown",
   "id": "d2556069",
   "metadata": {},
   "source": [
    "### Import Libraries"
   ]
  },
  {
   "cell_type": "code",
   "execution_count": 1,
   "id": "071a8a4a-0f1c-4da7-a042-5a60656313db",
   "metadata": {},
   "outputs": [],
   "source": [
    "import torch\n",
    "import torch.nn as nn\n",
    "import torchvision.transforms as transforms\n",
    "from torch.utils.data import DataLoader\n",
    "from torchvision.datasets import MNIST\n",
    "from tqdm import tqdm\n",
    "\n",
    "from bitlinear_pytorch import replace_linear_with_bitlinear\n"
   ]
  },
  {
   "cell_type": "markdown",
   "id": "e0ddc067",
   "metadata": {},
   "source": [
    "### Initialize Model"
   ]
  },
  {
   "cell_type": "code",
   "execution_count": 2,
   "id": "fa31305c",
   "metadata": {},
   "outputs": [],
   "source": [
    "class TinyMLP(nn.Module):\n",
    "    def __init__(self):\n",
    "        super(TinyMLP, self).__init__()\n",
    "\n",
    "        self.layers = nn.Sequential(\n",
    "            nn.Linear(784, 256),\n",
    "            nn.ReLU(),\n",
    "            nn.Linear(256, 128),\n",
    "            nn.ReLU(),\n",
    "            nn.Linear(128, 10),\n",
    "        )\n",
    "\n",
    "    def forward(self, x):\n",
    "        return self.layers(x)"
   ]
  },
  {
   "cell_type": "code",
   "execution_count": 3,
   "id": "1ebb136b",
   "metadata": {},
   "outputs": [],
   "source": [
    "model = TinyMLP()\n",
    "bitmodel = TinyMLP()\n",
    "replace_linear_with_bitlinear(bitmodel)"
   ]
  },
  {
   "cell_type": "markdown",
   "id": "3d454705",
   "metadata": {},
   "source": [
    "### Load Data"
   ]
  },
  {
   "cell_type": "code",
   "execution_count": 4,
   "id": "40d799d0",
   "metadata": {},
   "outputs": [],
   "source": [
    "batch_size = 128\n",
    "transform = transforms.Compose([\n",
    "    transforms.ToTensor(),\n",
    "    transforms.Lambda(lambda x: x.view(784))\n",
    "])"
   ]
  },
  {
   "cell_type": "code",
   "execution_count": 5,
   "id": "33f8e78c",
   "metadata": {},
   "outputs": [],
   "source": [
    "train_dataset = MNIST(root=\"data\", train=True, transform=transform, download=True)\n",
    "test_dataset = MNIST(root=\"data\", train=False, transform=transform, download=True)\n",
    "\n",
    "train_loader = DataLoader(train_dataset, batch_size=batch_size, shuffle=True)\n",
    "test_loader = DataLoader(test_dataset, batch_size=batch_size, shuffle=False)"
   ]
  },
  {
   "cell_type": "markdown",
   "id": "5a1b0da2",
   "metadata": {},
   "source": [
    "### Train Model"
   ]
  },
  {
   "cell_type": "code",
   "execution_count": 6,
   "id": "94ff3223",
   "metadata": {},
   "outputs": [],
   "source": [
    "def train(model, train_loader, test_loader, epochs=5):\n",
    "    criterion = nn.CrossEntropyLoss()\n",
    "    optimizer = torch.optim.Adam(model.parameters(), lr=1e-3)\n",
    "\n",
    "    loop = tqdm(range(epochs))\n",
    "    for epoch in loop:\n",
    "        # train step\n",
    "        model.train()\n",
    "        running_loss = 0.0\n",
    "        for inputs, targets in train_loader:\n",
    "            optimizer.zero_grad()\n",
    "            outputs = model(inputs)\n",
    "            loss = criterion(outputs, targets)\n",
    "            loss.backward()\n",
    "            optimizer.step()\n",
    "            running_loss += loss.item()\n",
    "        \n",
    "        # test step\n",
    "        model.eval()\n",
    "        correct = 0\n",
    "        total = len(test_loader.dataset)\n",
    "        with torch.no_grad():\n",
    "            for inputs, targets in test_loader:\n",
    "                outputs = model(inputs)\n",
    "                _, predicted = torch.max(outputs, 1)\n",
    "                correct += (predicted == targets).sum().item()\n",
    "\n",
    "        acc = correct / total\n",
    "        loop.set_description(\n",
    "            f\"Epoch [{epoch+1}/{epochs}], Loss: {running_loss:.2f}, Acc: {acc:.4f}\"\n",
    "        )"
   ]
  },
  {
   "cell_type": "code",
   "execution_count": 7,
   "id": "cc0dfb26",
   "metadata": {},
   "outputs": [
    {
     "name": "stderr",
     "output_type": "stream",
     "text": [
      "Epoch [5/5], Loss: 22.59, Acc: 0.9783: 100%|████████████████████████████████████████████████████████████████████████████████████| 5/5 [00:34<00:00,  6.99s/it]\n",
      "Epoch [5/5], Loss: 302.41, Acc: 0.8119: 100%|███████████████████████████████████████████████████████████████████████████████████| 5/5 [00:43<00:00,  8.74s/it]\n"
     ]
    }
   ],
   "source": [
    "train(model, train_loader, test_loader)\n",
    "train(bitmodel, train_loader, test_loader)"
   ]
  },
  {
   "cell_type": "markdown",
   "id": "79d14913",
   "metadata": {},
   "source": [
    "---"
   ]
  }
 ],
 "metadata": {
  "kernelspec": {
   "display_name": "Python 3 (ipykernel)",
   "language": "python",
   "name": "python3"
  },
  "language_info": {
   "codemirror_mode": {
    "name": "ipython",
    "version": 3
   },
   "file_extension": ".py",
   "mimetype": "text/x-python",
   "name": "python",
   "nbconvert_exporter": "python",
   "pygments_lexer": "ipython3",
   "version": "3.11.5"
  }
 },
 "nbformat": 4,
 "nbformat_minor": 5
}
